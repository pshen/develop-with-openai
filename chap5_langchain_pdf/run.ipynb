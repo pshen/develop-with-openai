{
 "cells": [
  {
   "cell_type": "code",
   "execution_count": 1,
   "metadata": {},
   "outputs": [],
   "source": [
    "from langchain.document_loaders import PyPDFLoader\n",
    "loader = PyPDFLoader(\"./../files/ExplorersGuide.pdf\")\n",
    "pages = loader.load_and_split()\n"
   ]
  },
  {
   "cell_type": "code",
   "execution_count": 2,
   "metadata": {},
   "outputs": [
    {
     "name": "stderr",
     "output_type": "stream",
     "text": [
      "/opt/homebrew/lib/python3.11/site-packages/langchain_core/_api/deprecation.py:117: LangChainDeprecationWarning: The class `langchain_community.embeddings.openai.OpenAIEmbeddings` was deprecated in langchain-community 0.1.0 and will be removed in 0.2.0. An updated version of the class exists in the langchain-openai package and should be used instead. To use it run `pip install -U langchain-openai` and import as `from langchain_openai import OpenAIEmbeddings`.\n",
      "  warn_deprecated(\n"
     ]
    }
   ],
   "source": [
    "from langchain.embeddings import OpenAIEmbeddings\n",
    "embeddings = OpenAIEmbeddings()\n"
   ]
  },
  {
   "cell_type": "code",
   "execution_count": 4,
   "metadata": {},
   "outputs": [],
   "source": [
    "from langchain.vectorstores import FAISS\n",
    "db = FAISS.from_documents(pages, embeddings)\n"
   ]
  },
  {
   "cell_type": "code",
   "execution_count": 5,
   "metadata": {},
   "outputs": [
    {
     "data": {
      "text/plain": [
       "Document(page_content='While Link’s traditional green \\ntunic is certainly an iconic look, his \\nwardrobe has expanded quite a bit \\nin his latest adventure. How you \\ndress isn’t just an expression of \\npersonal style either. In addition \\nto upping your defense a bit, \\ndifferent outﬁts have different \\neffects that will prove useful \\ndepending on what you’re doing \\nand where you’re going. The Warm \\nDoublet, for example, is a fantastic \\nfusion of fashion and function. It not only looks rather spiffy, it also \\nprotects you from the cold, allow-\\ning you to explore snowy areas \\nwithout losing health along the \\nway. The Climber’s set ups your \\nclimbing speed, which means \\nyou’ll be able to climb farther than you normally would \\nbefore running out of \\nstamina. The Stealth set \\nincreases your stealth, \\nso it’s handy when \\nyou’re out hunting or \\ntrying to sneak up on \\nenemies. The Zora \\nArmor not only helps \\nyou swim faster, it also allows you \\nto swim up waterfalls. Wearing a \\ncomplete set with upgraded \\npieces can even provide a bonus \\neffect. So if you plan on using an \\narmor ability frequently, make it a \\npoint to ﬁnd all of the pieces in \\nthat set and upgrade them! In fact, \\ngiven the variety of looks and \\naffects out there, you’ll want to collect as many duds as you can \\nand change them frequently to get \\nthe most out of your adventure. You \\ncan even dye your outﬁts to the \\ncolor of your choice by taking the \\nright ingredients  and some rupees \\nto the Kochi Dye Shop in Hateno \\nVillage, so don’t discount a useful \\nbit of clothing because you’re not \\nfond of the color! All that said, if \\nyou prefer to run around  \\nHyrule in nothing but \\nyour skivvies...that’s a \\nperfectly valid choice as \\nwell. Just don’t expect \\nHyrule’s residents to \\ntake too kindly to that \\ndecision.\\n67 68Dress for Success', metadata={'source': './../files/ExplorersGuide.pdf', 'page': 35})"
      ]
     },
     "execution_count": 5,
     "metadata": {},
     "output_type": "execute_result"
    }
   ],
   "source": [
    "q = \"What is Link's traditional outfit color?\"\n",
    "db.similarity_search(q)[0]\n"
   ]
  },
  {
   "cell_type": "code",
   "execution_count": 6,
   "metadata": {},
   "outputs": [
    {
     "name": "stderr",
     "output_type": "stream",
     "text": [
      "/opt/homebrew/lib/python3.11/site-packages/langchain_core/_api/deprecation.py:117: LangChainDeprecationWarning: The class `langchain_community.llms.openai.OpenAI` was deprecated in langchain-community 0.0.10 and will be removed in 0.2.0. An updated version of the class exists in the langchain-openai package and should be used instead. To use it run `pip install -U langchain-openai` and import as `from langchain_openai import OpenAI`.\n",
      "  warn_deprecated(\n",
      "/opt/homebrew/lib/python3.11/site-packages/langchain_core/_api/deprecation.py:117: LangChainDeprecationWarning: The function `__call__` was deprecated in LangChain 0.1.0 and will be removed in 0.2.0. Use invoke instead.\n",
      "  warn_deprecated(\n"
     ]
    },
    {
     "data": {
      "text/plain": [
       "{'result': ' Green.'}"
      ]
     },
     "execution_count": 6,
     "metadata": {},
     "output_type": "execute_result"
    }
   ],
   "source": [
    "from langchain.chains import RetrievalQA\n",
    "from langchain import OpenAI\n",
    "llm = OpenAI()\n",
    "chain = RetrievalQA.from_llm(llm=llm, retriever=db.as_retriever())\n",
    "\n",
    "q = \"What is Link's traditional outfit color?\"\n",
    "chain(q, return_only_outputs=True)\n"
   ]
  }
 ],
 "metadata": {
  "kernelspec": {
   "display_name": ".venv",
   "language": "python",
   "name": "python3"
  },
  "language_info": {
   "codemirror_mode": {
    "name": "ipython",
    "version": 3
   },
   "file_extension": ".py",
   "mimetype": "text/x-python",
   "name": "python",
   "nbconvert_exporter": "python",
   "pygments_lexer": "ipython3",
   "version": "3.11.7"
  },
  "orig_nbformat": 4
 },
 "nbformat": 4,
 "nbformat_minor": 2
}
